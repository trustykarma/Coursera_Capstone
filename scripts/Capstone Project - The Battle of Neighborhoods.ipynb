{
 "cells": [
  {
   "cell_type": "markdown",
   "metadata": {},
   "source": [
    "# Capstone Project\n",
    "\n",
    "## The Battle of Neighborhoods\n",
    "\n",
    "### Cultural Similarities\n",
    " *Christopher Neal*\n",
    " \n",
    " ***"
   ]
  },
  {
   "cell_type": "markdown",
   "metadata": {},
   "source": [
    "# Introduction\n",
    "\n",
    "The final project will be exploring the cultural similarities of New York and Toronto. Both major cities are labeled as one of the most multicultural cities in the world, but what makes them so diverse from other cities might make them similair to each other. I will be looking at the different types of cultural venues to answer this quesiton. Finding out which business are popular among these two diverse cities and possibly what is more popular in one or the other. If your looking to move to a cultural city with specific interests or trying to open a art gallery to express yourself, which city has what your looking for."
   ]
  },
  {
   "cell_type": "markdown",
   "metadata": {},
   "source": [
    "# Data\n",
    "\n",
    "I will be looking at data on New York and Toronto Neighborhoods, boroughs, latitude, logitude, and cultulral venues such as:\n",
    "resturants, art, music venue, museum, concert hall, opera house, religious buildings.\n",
    "\n",
    "New York City data containing the neighborhoods and boroughs, latitudes, and longitudes will be obtained from the data source: https://cocl.us/new_york_dataset\n",
    "\n",
    "Toronto data will be scrapped from canadas postal code wiki:  https://en.wikipedia.org/wiki/List_of_postal_codes_of_Canada:_M\n",
    "\n",
    "Venue data from both cities are created by using the foursquare developer API"
   ]
  },
  {
   "cell_type": "markdown",
   "metadata": {},
   "source": [
    "# Methodology\n"
   ]
  },
  {
   "cell_type": "markdown",
   "metadata": {},
   "source": [
    "# Problem Statement"
   ]
  },
  {
   "cell_type": "markdown",
   "metadata": {},
   "source": [
    "Import Libaries"
   ]
  },
  {
   "cell_type": "code",
   "execution_count": 1,
   "metadata": {},
   "outputs": [],
   "source": [
    "import pandas as pd\n",
    "import numpy as np\n",
    "import requests\n",
    "import folium\n",
    "import matplotlib.pyplot as plt\n",
    "import matplotlib.cm as cm\n",
    "import matplotlib.colors as colors"
   ]
  },
  {
   "cell_type": "markdown",
   "metadata": {},
   "source": [
    "Foursquare ID"
   ]
  },
  {
   "cell_type": "code",
   "execution_count": 2,
   "metadata": {},
   "outputs": [],
   "source": [
    "CLIENT_ID = 'HOCKKNRUKYFIFJKAS35RM50FICJ13FBOZHJSTGCFXX5NPD4C' #  Foursquare ID\n",
    "CLIENT_SECRET = 'WPWAZ3ZCW3ENQAYIF0CJGVOMONT1QFNJ3GLZ5MWDL1I50Q1D' #  Foursquare Secret\n",
    "VERSION = '20180605' # Foursquare API version"
   ]
  },
  {
   "cell_type": "markdown",
   "metadata": {},
   "source": [
    "Functions"
   ]
  },
  {
   "cell_type": "code",
   "execution_count": 3,
   "metadata": {},
   "outputs": [],
   "source": [
    "def get_new_york_data():\n",
    "    url='https://cocl.us/new_york_dataset'\n",
    "    resp=requests.get(url).json()\n",
    "    # all data is present in features label\n",
    "    features=resp['features']\n",
    "    # define the dataframe columns\n",
    "    column_names = ['Borough', 'Neighborhood', 'Latitude', 'Longitude'] \n",
    "    # instantiate the dataframe\n",
    "    new_york_data = pd.DataFrame(columns=column_names)\n",
    "    for data in features:\n",
    "        borough = data['properties']['borough'] \n",
    "        neighborhood_name = data['properties']['name']\n",
    "        neighborhood_latlon = data['geometry']['coordinates']\n",
    "        neighborhood_lat = neighborhood_latlon[1]\n",
    "        neighborhood_lon = neighborhood_latlon[0]\n",
    "        new_york_data = new_york_data.append({'Borough': borough,\n",
    "                                          'Neighborhood': neighborhood_name,\n",
    "                                          'Latitude': neighborhood_lat,\n",
    "                                          'Longitude': neighborhood_lon}, ignore_index=True)\n",
    "    return new_york_data\n",
    "\n",
    "def getNearbyVenues(names, latitudes, longitudes, radius=500):\n",
    "    LIMIT = 100\n",
    "    venues_list=[]\n",
    "    for name, lat, lng in zip(names, latitudes, longitudes):\n",
    "            \n",
    "        # create the API request URL\n",
    "        url = 'https://api.foursquare.com/v2/venues/explore?&client_id={}&client_secret={}&v={}&ll={},{}&radius={}&limit={}'.format(\n",
    "            CLIENT_ID, \n",
    "            CLIENT_SECRET, \n",
    "            VERSION, \n",
    "            lat, \n",
    "            lng, \n",
    "            radius, \n",
    "            LIMIT)\n",
    "            \n",
    "        # make the GET request\n",
    "        try:\n",
    "            results = requests.get(url).json()[\"response\"]['groups'][0]['items']\n",
    "        except KeyError:\n",
    "            pass\n",
    "        \n",
    "        # return only relevant information for each nearby venue\n",
    "        venues_list.append([(\n",
    "            name, \n",
    "            lat, \n",
    "            lng, \n",
    "            v['venue']['name'], \n",
    "            v['venue']['location']['lat'], \n",
    "            v['venue']['location']['lng'],  \n",
    "            v['venue']['categories'][0]['name']) for v in results])\n",
    "\n",
    "    nearby_venues = pd.DataFrame([item for venue_list in venues_list for item in venue_list])\n",
    "    nearby_venues.columns = ['Neighborhood', \n",
    "                  'Neighborhood Latitude', \n",
    "                  'Neighborhood Longitude', \n",
    "                  'Venue', \n",
    "                  'Venue Latitude', \n",
    "                  'Venue Longitude', \n",
    "                  'Venue Category']\n",
    "    \n",
    "    return(nearby_venues)"
   ]
  },
  {
   "cell_type": "markdown",
   "metadata": {},
   "source": [
    "Reading datasets"
   ]
  },
  {
   "cell_type": "code",
   "execution_count": 4,
   "metadata": {},
   "outputs": [],
   "source": [
    "#Previously compiled toronto venues\n",
    "toronto_venue = pd.read_csv(r'C:\\Users\\TrustyKarma\\github\\Projects\\Coursera_Capstone\\assets\\toronto_venues.csv')\n",
    "\n",
    "# New York Datset\n",
    "ny_data = get_new_york_data()"
   ]
  },
  {
   "cell_type": "markdown",
   "metadata": {},
   "source": [
    "Lets look at the New York Dataset"
   ]
  },
  {
   "cell_type": "code",
   "execution_count": 5,
   "metadata": {},
   "outputs": [
    {
     "data": {
      "text/html": [
       "<div>\n",
       "<style scoped>\n",
       "    .dataframe tbody tr th:only-of-type {\n",
       "        vertical-align: middle;\n",
       "    }\n",
       "\n",
       "    .dataframe tbody tr th {\n",
       "        vertical-align: top;\n",
       "    }\n",
       "\n",
       "    .dataframe thead th {\n",
       "        text-align: right;\n",
       "    }\n",
       "</style>\n",
       "<table border=\"1\" class=\"dataframe\">\n",
       "  <thead>\n",
       "    <tr style=\"text-align: right;\">\n",
       "      <th></th>\n",
       "      <th>Borough</th>\n",
       "      <th>Neighborhood</th>\n",
       "      <th>Latitude</th>\n",
       "      <th>Longitude</th>\n",
       "    </tr>\n",
       "  </thead>\n",
       "  <tbody>\n",
       "    <tr>\n",
       "      <th>0</th>\n",
       "      <td>Bronx</td>\n",
       "      <td>Wakefield</td>\n",
       "      <td>40.894705</td>\n",
       "      <td>-73.847201</td>\n",
       "    </tr>\n",
       "    <tr>\n",
       "      <th>1</th>\n",
       "      <td>Bronx</td>\n",
       "      <td>Co-op City</td>\n",
       "      <td>40.874294</td>\n",
       "      <td>-73.829939</td>\n",
       "    </tr>\n",
       "    <tr>\n",
       "      <th>2</th>\n",
       "      <td>Bronx</td>\n",
       "      <td>Eastchester</td>\n",
       "      <td>40.887556</td>\n",
       "      <td>-73.827806</td>\n",
       "    </tr>\n",
       "    <tr>\n",
       "      <th>3</th>\n",
       "      <td>Bronx</td>\n",
       "      <td>Fieldston</td>\n",
       "      <td>40.895437</td>\n",
       "      <td>-73.905643</td>\n",
       "    </tr>\n",
       "    <tr>\n",
       "      <th>4</th>\n",
       "      <td>Bronx</td>\n",
       "      <td>Riverdale</td>\n",
       "      <td>40.890834</td>\n",
       "      <td>-73.912585</td>\n",
       "    </tr>\n",
       "    <tr>\n",
       "      <th>...</th>\n",
       "      <td>...</td>\n",
       "      <td>...</td>\n",
       "      <td>...</td>\n",
       "      <td>...</td>\n",
       "    </tr>\n",
       "    <tr>\n",
       "      <th>301</th>\n",
       "      <td>Manhattan</td>\n",
       "      <td>Hudson Yards</td>\n",
       "      <td>40.756658</td>\n",
       "      <td>-74.000111</td>\n",
       "    </tr>\n",
       "    <tr>\n",
       "      <th>302</th>\n",
       "      <td>Queens</td>\n",
       "      <td>Hammels</td>\n",
       "      <td>40.587338</td>\n",
       "      <td>-73.805530</td>\n",
       "    </tr>\n",
       "    <tr>\n",
       "      <th>303</th>\n",
       "      <td>Queens</td>\n",
       "      <td>Bayswater</td>\n",
       "      <td>40.611322</td>\n",
       "      <td>-73.765968</td>\n",
       "    </tr>\n",
       "    <tr>\n",
       "      <th>304</th>\n",
       "      <td>Queens</td>\n",
       "      <td>Queensbridge</td>\n",
       "      <td>40.756091</td>\n",
       "      <td>-73.945631</td>\n",
       "    </tr>\n",
       "    <tr>\n",
       "      <th>305</th>\n",
       "      <td>Staten Island</td>\n",
       "      <td>Fox Hills</td>\n",
       "      <td>40.617311</td>\n",
       "      <td>-74.081740</td>\n",
       "    </tr>\n",
       "  </tbody>\n",
       "</table>\n",
       "<p>306 rows × 4 columns</p>\n",
       "</div>"
      ],
      "text/plain": [
       "           Borough  Neighborhood   Latitude  Longitude\n",
       "0            Bronx     Wakefield  40.894705 -73.847201\n",
       "1            Bronx    Co-op City  40.874294 -73.829939\n",
       "2            Bronx   Eastchester  40.887556 -73.827806\n",
       "3            Bronx     Fieldston  40.895437 -73.905643\n",
       "4            Bronx     Riverdale  40.890834 -73.912585\n",
       "..             ...           ...        ...        ...\n",
       "301      Manhattan  Hudson Yards  40.756658 -74.000111\n",
       "302         Queens       Hammels  40.587338 -73.805530\n",
       "303         Queens     Bayswater  40.611322 -73.765968\n",
       "304         Queens  Queensbridge  40.756091 -73.945631\n",
       "305  Staten Island     Fox Hills  40.617311 -74.081740\n",
       "\n",
       "[306 rows x 4 columns]"
      ]
     },
     "execution_count": 5,
     "metadata": {},
     "output_type": "execute_result"
    }
   ],
   "source": [
    "ny_data"
   ]
  },
  {
   "cell_type": "code",
   "execution_count": 6,
   "metadata": {},
   "outputs": [],
   "source": [
    "ny_venues = getNearbyVenues(names=ny_data['Neighborhood'],\n",
    "                                   latitudes=ny_data['Latitude'],\n",
    "                                   longitudes=ny_data['Longitude']\n",
    "                                  )"
   ]
  },
  {
   "cell_type": "code",
   "execution_count": 7,
   "metadata": {},
   "outputs": [],
   "source": [
    "#saving dataframe to csv\n",
    "#ny_venues.to_csv (r'C:\\Users\\TrustyKarma\\github\\Projects\\Coursera_Capstone\\assets\\ny_venues.csv', index = False, header=True)"
   ]
  },
  {
   "cell_type": "markdown",
   "metadata": {},
   "source": [
    "The number of venues is quite large lets simplify to culural venues"
   ]
  },
  {
   "cell_type": "code",
   "execution_count": 8,
   "metadata": {},
   "outputs": [
    {
     "name": "stdout",
     "output_type": "stream",
     "text": [
      "['Dessert Shop' 'Pharmacy' 'Ice Cream Shop' 'Donut Shop' 'Gas Station'\n",
      " 'Sandwich Place' 'Pizza Place' 'Laundromat' 'Discount Store'\n",
      " 'Post Office' 'Bagel Shop' 'Grocery Store' 'Fast Food Restaurant'\n",
      " 'Restaurant' 'Bus Station' 'Baseball Field' 'Deli / Bodega'\n",
      " 'Fried Chicken Joint' 'Trail' 'Basketball Court' 'Park'\n",
      " 'Accessories Store' 'Diner' 'Caribbean Restaurant' 'Seafood Restaurant'\n",
      " 'Chinese Restaurant' 'Bowling Alley' 'Food & Drink Shop' 'Metro Station'\n",
      " 'Convenience Store' 'Juice Bar' 'Bus Stop' 'Plaza' 'River' 'Bank'\n",
      " 'Medical Supply Store' 'Food Truck' 'Gym' 'Playground' 'Gourmet Shop'\n",
      " 'Latin American Restaurant' 'Burger Joint' 'Pub' 'Spanish Restaurant'\n",
      " 'Beer Bar' 'Warehouse Store' 'Coffee Shop' 'Mexican Restaurant' 'Bar'\n",
      " 'Wings Joint' 'Supermarket' 'Thrift / Vintage Store' 'Bakery'\n",
      " 'Candy Store' 'Café' 'Breakfast Spot' 'Rental Car Location'\n",
      " 'Supplement Shop' 'Mattress Store' 'Pet Store' 'Shipping Store'\n",
      " 'Sports Bar' 'Print Shop' 'Furniture / Home Store' 'Cosmetics Shop'\n",
      " 'Vegetarian / Vegan Restaurant' 'Yoga Studio' 'Tennis Stadium'\n",
      " 'Department Store' 'Video Game Store' 'Steakhouse' 'Kids Store'\n",
      " 'Big Box Store' 'American Restaurant' 'Italian Restaurant'\n",
      " 'Indian Restaurant' 'Train Station' 'Liquor Store' 'Mobile Phone Shop'\n",
      " 'Athletics & Sports' 'Soup Place' 'Nightclub' 'Gym / Fitness Center'\n",
      " 'Arcade' \"Men's Store\" 'Other Great Outdoors' 'Sporting Goods Shop'\n",
      " 'Electronics Store' 'Frozen Yogurt Shop' 'Sushi Restaurant'\n",
      " 'Performing Arts Venue' 'Gift Shop' 'Home Service' 'Track'\n",
      " 'French Restaurant' 'History Museum' 'Smoke Shop' 'Music Venue'\n",
      " 'Arts & Crafts Store' 'Jewelry Store' 'Tapas Restaurant' 'Boat or Ferry'\n",
      " 'Harbor / Marina' 'African Restaurant' 'Shoe Store' 'Clothing Store'\n",
      " 'Burrito Place' 'Recreation Center' 'Miscellaneous Shop' 'Outlet Store'\n",
      " 'Greek Restaurant' 'Fruit & Vegetable Store' 'Historic Site'\n",
      " 'Puerto Rican Restaurant' 'Lounge' 'Bus Line' 'Intersection' 'Market'\n",
      " 'Asian Restaurant' 'Food' 'Health & Beauty Service'\n",
      " 'Check Cashing Service' 'Martial Arts School' 'Art Gallery'\n",
      " 'Paper / Office Supplies Store' 'Peruvian Restaurant' 'Storage Facility'\n",
      " 'Bookstore' 'Hardware Store' 'Fish & Chips Shop' 'Brewery' 'Distillery'\n",
      " 'Train' 'BBQ Joint' 'Farmers Market' 'Waste Facility' 'Fish Market'\n",
      " 'Video Store' 'Pool' 'Recording Studio' 'Scenic Lookout'\n",
      " 'South American Restaurant' 'Flea Market' 'Weight Loss Center'\n",
      " \"Women's Store\" 'Indie Theater' 'Building' 'Middle Eastern Restaurant'\n",
      " 'Hookah Bar' 'College Gym' 'Board Shop' 'Arepa Restaurant' 'Buffet'\n",
      " 'Tattoo Parlor' 'Eastern European Restaurant' 'Cheese Shop'\n",
      " 'Japanese Restaurant' 'Piano Bar' 'Southern / Soul Food Restaurant'\n",
      " 'Tanning Salon' 'Hotel' 'Mediterranean Restaurant' 'Thai Restaurant'\n",
      " 'Tennis Court' 'Social Club' 'Dive Bar' 'Lawyer' 'Spa'\n",
      " 'Salon / Barbershop' 'Moving Target' \"Doctor's Office\" 'Art Museum'\n",
      " 'Cuban Restaurant' 'Comfort Food Restaurant' 'Dance Studio' 'Taco Place'\n",
      " 'Caucasian Restaurant' 'Optical Shop' 'Tea Room'\n",
      " 'New American Restaurant' 'Toy / Game Store' 'Lingerie Store' 'Pool Hall'\n",
      " 'Vietnamese Restaurant' 'Dim Sum Restaurant' 'Snack Place' 'Butcher'\n",
      " 'Shabu-Shabu Restaurant' 'Noodle House' 'Hotpot Restaurant' 'Factory'\n",
      " 'Record Shop' 'Cha Chaan Teng' 'Creperie' 'Stadium' 'Polish Restaurant'\n",
      " 'Laundry Service' 'Szechuan Restaurant' 'Gymnastics Gym' 'Gastropub'\n",
      " 'Cocktail Bar' 'Beer Store' 'Boutique' 'Wine Shop' 'Vape Store'\n",
      " 'Whisky Bar' 'Flower Shop' 'Wine Bar' 'Coworking Space' 'Garden Center'\n",
      " 'Nail Salon' 'Organic Grocery' 'Music Store' 'Neighborhood' 'Beach'\n",
      " 'Korean Restaurant' 'Russian Restaurant' 'Varenyky restaurant'\n",
      " 'Non-Profit' 'Turkish Restaurant' 'Karaoke Bar' 'Jazz Club' 'Museum'\n",
      " 'Other Repair Shop' 'Outdoors & Recreation' 'Racetrack' 'Antique Shop'\n",
      " 'Business Service' 'Cajun / Creole Restaurant' 'North Indian Restaurant'\n",
      " 'Used Bookstore' 'Other Nightlife' 'Ramen Restaurant'\n",
      " 'Burmese Restaurant' 'Falafel Restaurant' 'Airport Terminal'\n",
      " 'Event Space' 'Food Stand' 'Residential Building (Apartment / Condo)'\n",
      " 'Tiki Bar' 'Garden' 'Cycle Studio' 'Pilates Studio' 'Bistro'\n",
      " 'Massage Studio' 'Chocolate Shop' 'Salad Place' 'Waterfront'\n",
      " 'Ethiopian Restaurant' 'Argentinian Restaurant' 'Dumpling Restaurant'\n",
      " 'Speakeasy' 'Indie Movie Theater' 'Gaming Cafe' 'Beer Garden' 'Church'\n",
      " 'Filipino Restaurant' 'Herbs & Spices Store' 'Pie Shop' 'Farm'\n",
      " 'Food Court' 'Rock Club' 'Automotive Shop' 'Design Studio'\n",
      " 'Israeli Restaurant' 'Dog Run' 'German Restaurant' 'Opera House'\n",
      " 'Theater' 'Shopping Mall' 'Locksmith' 'Skating Rink' 'Baseball Stadium'\n",
      " 'Monument / Landmark' 'Theme Park Ride / Attraction' 'Surf Spot'\n",
      " 'Bubble Tea Shop' 'Cantonese Restaurant' 'Pakistani Restaurant'\n",
      " 'Halal Restaurant' 'Poke Place' 'Golf Course' 'Soccer Field'\n",
      " 'Sculpture Garden' 'Motorcycle Shop' 'Boxing Gym' 'Rental Service'\n",
      " 'Shop & Service' 'Construction & Landscaping' 'Movie Theater' 'Roof Deck'\n",
      " 'Kebab Restaurant' 'Shanghai Restaurant' 'Hawaiian Restaurant'\n",
      " 'Concert Hall' 'Ski Area' 'Gay Bar' 'Taiwanese Restaurant'\n",
      " 'Arts & Entertainment' 'Hostel' 'Piercing Parlor' 'Library' 'Bike Shop'\n",
      " 'General Entertainment' 'Sake Bar' 'Jewish Restaurant'\n",
      " 'Brazilian Restaurant' 'Malay Restaurant' 'Austrian Restaurant'\n",
      " 'Pet Café' 'Rest Area' 'Veterinarian' 'Empanada Restaurant' 'School'\n",
      " 'Climbing Gym' 'Japanese Curry Restaurant' 'Bike Trail' 'Cafeteria'\n",
      " 'Public Art' 'Street Art' 'Hotel Bar' 'Exhibit' 'Kitchen Supply Store'\n",
      " 'Bridge' 'Hobby Shop' 'Hot Dog Joint' 'Daycare' 'Health Food Store'\n",
      " 'College Academic Building' 'Czech Restaurant' 'Club House' 'Dry Cleaner'\n",
      " 'Drugstore' 'South Indian Restaurant' 'Circus' 'College Arts Building'\n",
      " 'Fountain' 'College Bookstore' 'College Theater' 'Comedy Club'\n",
      " 'Music School' 'Tailor Shop' 'Resort' 'Cupcake Shop' 'Pet Service'\n",
      " 'Tech Startup' 'Office' 'Paella Restaurant' 'Photography Studio'\n",
      " 'Smoothie Shop' 'Udon Restaurant' 'Theme Restaurant'\n",
      " 'Lebanese Restaurant' 'Moroccan Restaurant' 'Scandinavian Restaurant'\n",
      " 'Swiss Restaurant' 'Gym Pool' 'Volleyball Court' 'Mini Golf' 'Skate Park'\n",
      " 'Modern European Restaurant' 'Bike Rental / Bike Share' 'Bridal Shop'\n",
      " 'High School' 'Newsstand' 'Australian Restaurant' 'Pier'\n",
      " 'Outdoor Sculpture' 'College Cafeteria' 'Irish Pub'\n",
      " 'Financial or Legal Service' 'Cooking School' 'Memorial Site'\n",
      " 'Auditorium' 'Pedestrian Plaza' 'Souvlaki Shop' 'Tibetan Restaurant'\n",
      " 'Himalayan Restaurant' 'Colombian Restaurant' 'Indonesian Restaurant'\n",
      " 'Sports Club' 'Motel' 'Romanian Restaurant' 'Indoor Play Area' 'Lake'\n",
      " 'Egyptian Restaurant' 'Kosher Restaurant' 'Comic Shop' 'Multiplex'\n",
      " 'IT Services' 'Shopping Plaza' 'Gluten-free Restaurant' 'Beach Bar'\n",
      " 'Bath House' 'Dosa Place' 'College Basketball Court' 'Afghan Restaurant'\n",
      " 'Outlet Mall' 'Tourist Information Center' 'Sri Lankan Restaurant'\n",
      " 'Go Kart Track' 'Nightlife Spot' 'Field' 'Boarding House'\n",
      " 'Medical Center' 'Toll Plaza' 'Professional & Other Places' 'Theme Park'\n",
      " 'Tex-Mex Restaurant' 'Community Center' 'Venezuelan Restaurant'\n",
      " 'Molecular Gastronomy Restaurant' 'Baby Store' 'Strip Club'\n",
      " 'Leather Goods Store' 'Persian Restaurant' 'Child Care Service'\n",
      " 'Auto Garage' 'Adult Boutique' 'Spiritual Center'\n",
      " 'State / Provincial Park' 'Duty-free Shop' 'Heliport' 'Auto Workshop'\n",
      " 'Roller Rink' 'Entertainment Service' 'Campground' 'Camera Store'\n",
      " 'Stables' 'Hotel Pool' 'Platform']\n"
     ]
    }
   ],
   "source": [
    "print(ny_venues['Venue Category'].unique())"
   ]
  },
  {
   "cell_type": "markdown",
   "metadata": {},
   "source": [
    "Obvious cultural venues\n",
    "* Restaurant (contains word)\n",
    "* Museum (contains word)\n",
    "* Music (contains word)\n",
    "* Historic Site\n",
    "* Theater (contains word)\n",
    "* Club (contains word)\n",
    "* Other Nightlife\n",
    "* Opera House\n",
    "* Bar (contains word)"
   ]
  },
  {
   "cell_type": "markdown",
   "metadata": {},
   "source": [
    "Create a funtion to find the obvious cultural venues"
   ]
  },
  {
   "cell_type": "code",
   "execution_count": 9,
   "metadata": {},
   "outputs": [],
   "source": [
    "def getCulturalVenues (venues):\n",
    "     \n",
    "    #Finding Venues\n",
    "    restaurant = venues[venues['Venue Category'].str.contains(\"Restaurant\")]\n",
    "    museum = venues[venues['Venue Category'].str.contains(\"Museum\")]\n",
    "    music = venues[venues['Venue Category'].str.contains(\"Music\")]\n",
    "    historic = venues[venues['Venue Category'].str.contains(\"Historic Site\")]\n",
    "    club = venues[venues['Venue Category'].str.contains(\"Club\")]\n",
    "    nightlife = venues[venues['Venue Category'].str.contains(\"Other Nightlife\")]\n",
    "    opera = venues[venues['Venue Category'].str.contains(\"Opera House\")]\n",
    "    bar = venues[venues['Venue Category'].str.contains(\"Bar\")]\n",
    "    \n",
    "    #Creating Dataframe\n",
    "    culture = pd.concat([restaurant,museum,music,historic,club,nightlife,opera,bar])\n",
    "    \n",
    "    return culture"
   ]
  },
  {
   "cell_type": "code",
   "execution_count": 10,
   "metadata": {},
   "outputs": [],
   "source": [
    "ny_culture = getCulturalVenues(ny_venues)"
   ]
  },
  {
   "cell_type": "code",
   "execution_count": 11,
   "metadata": {},
   "outputs": [
    {
     "data": {
      "text/plain": [
       "array(['Fast Food Restaurant', 'Restaurant', 'Caribbean Restaurant',\n",
       "       'Seafood Restaurant', 'Chinese Restaurant',\n",
       "       'Latin American Restaurant', 'Spanish Restaurant',\n",
       "       'Mexican Restaurant', 'Vegetarian / Vegan Restaurant',\n",
       "       'American Restaurant', 'Italian Restaurant', 'Indian Restaurant',\n",
       "       'Sushi Restaurant', 'French Restaurant', 'Tapas Restaurant',\n",
       "       'African Restaurant', 'Greek Restaurant',\n",
       "       'Puerto Rican Restaurant', 'Asian Restaurant',\n",
       "       'Peruvian Restaurant', 'South American Restaurant',\n",
       "       'Middle Eastern Restaurant', 'Arepa Restaurant',\n",
       "       'Eastern European Restaurant', 'Japanese Restaurant',\n",
       "       'Southern / Soul Food Restaurant', 'Mediterranean Restaurant',\n",
       "       'Thai Restaurant', 'Cuban Restaurant', 'Comfort Food Restaurant',\n",
       "       'Caucasian Restaurant', 'New American Restaurant',\n",
       "       'Vietnamese Restaurant', 'Dim Sum Restaurant',\n",
       "       'Shabu-Shabu Restaurant', 'Hotpot Restaurant', 'Polish Restaurant',\n",
       "       'Szechuan Restaurant', 'Korean Restaurant', 'Russian Restaurant',\n",
       "       'Turkish Restaurant', 'Cajun / Creole Restaurant',\n",
       "       'North Indian Restaurant', 'Ramen Restaurant',\n",
       "       'Burmese Restaurant', 'Falafel Restaurant', 'Ethiopian Restaurant',\n",
       "       'Argentinian Restaurant', 'Dumpling Restaurant',\n",
       "       'Filipino Restaurant', 'Israeli Restaurant', 'German Restaurant',\n",
       "       'Cantonese Restaurant', 'Pakistani Restaurant', 'Halal Restaurant',\n",
       "       'Kebab Restaurant', 'Shanghai Restaurant', 'Hawaiian Restaurant',\n",
       "       'Taiwanese Restaurant', 'Jewish Restaurant',\n",
       "       'Brazilian Restaurant', 'Malay Restaurant', 'Austrian Restaurant',\n",
       "       'Empanada Restaurant', 'Japanese Curry Restaurant',\n",
       "       'Czech Restaurant', 'South Indian Restaurant', 'Paella Restaurant',\n",
       "       'Udon Restaurant', 'Theme Restaurant', 'Lebanese Restaurant',\n",
       "       'Moroccan Restaurant', 'Scandinavian Restaurant',\n",
       "       'Swiss Restaurant', 'Modern European Restaurant',\n",
       "       'Australian Restaurant', 'Tibetan Restaurant',\n",
       "       'Himalayan Restaurant', 'Colombian Restaurant',\n",
       "       'Indonesian Restaurant', 'Romanian Restaurant',\n",
       "       'Egyptian Restaurant', 'Kosher Restaurant',\n",
       "       'Gluten-free Restaurant', 'Afghan Restaurant',\n",
       "       'Sri Lankan Restaurant', 'Tex-Mex Restaurant',\n",
       "       'Venezuelan Restaurant', 'Molecular Gastronomy Restaurant',\n",
       "       'Persian Restaurant', 'History Museum', 'Art Museum', 'Museum',\n",
       "       'Music Venue', 'Music Store', 'Music School', 'Historic Site',\n",
       "       'Social Club', 'Jazz Club', 'Rock Club', 'Club House',\n",
       "       'Comedy Club', 'Sports Club', 'Strip Club', 'Other Nightlife',\n",
       "       'Opera House', 'Juice Bar', 'Beer Bar', 'Bar', 'Sports Bar',\n",
       "       'Hookah Bar', 'Piano Bar', 'Dive Bar', 'Salon / Barbershop',\n",
       "       'Cocktail Bar', 'Whisky Bar', 'Wine Bar', 'Karaoke Bar',\n",
       "       'Tiki Bar', 'Gay Bar', 'Sake Bar', 'Hotel Bar', 'Beach Bar'],\n",
       "      dtype=object)"
      ]
     },
     "execution_count": 11,
     "metadata": {},
     "output_type": "execute_result"
    }
   ],
   "source": [
    "ny_culture['Venue Category'].unique()"
   ]
  },
  {
   "cell_type": "code",
   "execution_count": 12,
   "metadata": {},
   "outputs": [
    {
     "data": {
      "text/plain": [
       "(3213, 7)"
      ]
     },
     "execution_count": 12,
     "metadata": {},
     "output_type": "execute_result"
    }
   ],
   "source": [
    "ny_culture.shape"
   ]
  },
  {
   "cell_type": "code",
   "execution_count": 62,
   "metadata": {},
   "outputs": [
    {
     "data": {
      "text/plain": [
       "count                   3213\n",
       "unique                   123\n",
       "top       Italian Restaurant\n",
       "freq                     314\n",
       "Name: Venue Category, dtype: object"
      ]
     },
     "execution_count": 62,
     "metadata": {},
     "output_type": "execute_result"
    }
   ],
   "source": [
    "ny_culture['Venue Category'].describe()"
   ]
  },
  {
   "cell_type": "markdown",
   "metadata": {},
   "source": [
    "Now lets look at the Toronto Dataset"
   ]
  },
  {
   "cell_type": "code",
   "execution_count": 13,
   "metadata": {},
   "outputs": [
    {
     "name": "stdout",
     "output_type": "stream",
     "text": [
      "['Bakery' 'Coffee Shop' 'Distribution Center' 'Restaurant' 'Spa' 'Park'\n",
      " 'Pub' 'Historic Site' 'Breakfast Spot' 'Gym / Fitness Center'\n",
      " 'Farmers Market' 'Chocolate Shop' 'Performing Arts Venue' 'Dessert Shop'\n",
      " 'Mexican Restaurant' 'Theater' 'French Restaurant' 'Café' 'Yoga Studio'\n",
      " 'Event Space' 'Shoe Store' 'Ice Cream Shop' 'Art Gallery'\n",
      " 'Cosmetics Shop' 'Electronics Store' 'Bank' 'Beer Store' 'Hotel'\n",
      " 'Wine Shop' 'Antique Shop' 'Portuguese Restaurant' 'Italian Restaurant'\n",
      " 'Beer Bar' 'Sushi Restaurant' 'Persian Restaurant' 'Creperie'\n",
      " 'Arts & Crafts Store' 'Hobby Shop' 'Diner' 'Fried Chicken Joint'\n",
      " 'Chinese Restaurant' 'Smoothie Shop' 'Sandwich Place' 'Gym'\n",
      " 'College Auditorium' 'Bar' 'Music Venue' 'Clothing Store' 'Comic Shop'\n",
      " 'Pizza Place' 'Plaza' 'Burrito Place' 'Movie Theater' 'Thai Restaurant'\n",
      " 'Burger Joint' 'Shopping Mall' 'Sporting Goods Shop'\n",
      " 'New American Restaurant' 'Japanese Restaurant' 'Gastropub'\n",
      " 'Fast Food Restaurant' 'Tanning Salon' 'Ramen Restaurant' 'Steakhouse'\n",
      " 'College Rec Center' 'Bookstore' 'Middle Eastern Restaurant'\n",
      " 'Modern European Restaurant' 'Miscellaneous Shop' 'Tea Room' 'Lake'\n",
      " 'Department Store' 'Lounge' 'Furniture / Home Store' 'Video Game Store'\n",
      " 'Seafood Restaurant' 'Bubble Tea Shop' 'Ethiopian Restaurant'\n",
      " 'Toy / Game Store' 'Wine Bar' 'Other Great Outdoors' 'Office' 'Boutique'\n",
      " 'Poutine Place' 'Lingerie Store' 'Vietnamese Restaurant' 'Smoke Shop'\n",
      " 'Food Truck' 'BBQ Joint' 'American Restaurant' 'Cocktail Bar'\n",
      " 'Latin American Restaurant' 'Vegetarian / Vegan Restaurant' 'Fountain'\n",
      " 'Tailor Shop' 'Grocery Store' 'Cheese Shop' 'German Restaurant'\n",
      " 'Comfort Food Restaurant' 'Salon / Barbershop' 'Asian Restaurant'\n",
      " 'Moroccan Restaurant' 'Pharmacy' 'Irish Pub' 'Bistro'\n",
      " 'Belgian Restaurant' 'Trail' 'Health Food Store' 'Neighborhood'\n",
      " 'Liquor Store' 'Concert Hall' 'Museum' 'Basketball Stadium' 'Jazz Club'\n",
      " 'Fish Market' 'Greek Restaurant' 'Beach' 'Gourmet Shop' 'Bagel Shop'\n",
      " 'Art Museum' 'Salad Place' 'Indian Restaurant' 'Falafel Restaurant'\n",
      " 'Juice Bar' 'Discount Store' 'Donut Shop' 'Korean Restaurant'\n",
      " 'Candy Store' 'Baby Store' 'Nightclub' 'Athletics & Sports' 'Speakeasy'\n",
      " 'General Travel' 'Monument / Landmark' 'Food Court'\n",
      " 'Colombian Restaurant' 'Brazilian Restaurant' 'Noodle House'\n",
      " 'Mediterranean Restaurant' 'Gluten-free Restaurant' 'Deli / Bodega'\n",
      " \"Women's Store\" 'Building' 'Cupcake Shop' 'Brewery' 'Supermarket'\n",
      " 'Pet Store' 'Skating Rink' 'IT Services' 'Roof Deck' 'Aquarium'\n",
      " 'Dance Studio' 'Train Station' 'Scenic Lookout' 'History Museum'\n",
      " 'Baseball Stadium' 'Sports Bar' 'Indie Movie Theater' 'Hotel Bar'\n",
      " 'Cuban Restaurant' 'Record Shop' 'Malay Restaurant' \"Men's Store\"\n",
      " 'Gift Shop' 'Dog Run' 'Fruit & Vegetable Store' 'Caribbean Restaurant'\n",
      " 'Frozen Yogurt Shop' 'General Entertainment' 'Climbing Gym' 'Stadium'\n",
      " 'Intersection' 'Convenience Store' 'Fish & Chips Shop' 'Board Shop'\n",
      " 'Poke Place' 'Gay Bar' 'Stationery Store' 'Coworking Space'\n",
      " 'Dim Sum Restaurant' 'Swim School' 'Bus Line' 'Health & Beauty Service'\n",
      " 'Home Service' 'Garden' 'Food & Drink Shop' 'Jewelry Store' 'Flea Market'\n",
      " 'Cajun / Creole Restaurant' 'Eastern European Restaurant' 'Gas Station'\n",
      " 'College Gym' 'College Arts Building' 'Butcher' 'Summer Camp'\n",
      " 'Playground' 'Organic Grocery' 'Dumpling Restaurant' 'Snack Place'\n",
      " 'Gaming Cafe' 'Doner Restaurant' 'Filipino Restaurant' 'Massage Studio'\n",
      " 'Hospital' 'Bed & Breakfast' 'Gym Pool' 'Light Rail Station' 'Airport'\n",
      " 'Airport Lounge' 'Harbor / Marina' 'Airport Food Court'\n",
      " 'Airport Terminal' 'Airport Gate' 'Plane' 'Airport Service'\n",
      " 'Rental Car Location' 'Sculpture Garden' 'Boat or Ferry'\n",
      " 'Molecular Gastronomy Restaurant' 'Optical Shop' 'Church' 'Soup Place'\n",
      " 'Taiwanese Restaurant' 'Market' 'Outdoor Sculpture' 'Opera House'\n",
      " 'Theme Restaurant' 'Escape Room' 'Martial Arts School' 'Sake Bar'\n",
      " 'Afghan Restaurant' 'Strip Club' 'Skate Park' 'Garden Center'\n",
      " 'Auto Workshop']\n"
     ]
    }
   ],
   "source": [
    "print(toronto_venue['Venue Category'].unique())"
   ]
  },
  {
   "cell_type": "code",
   "execution_count": 14,
   "metadata": {},
   "outputs": [],
   "source": [
    "toronto_culture = getCulturalVenues(toronto_venue)"
   ]
  },
  {
   "cell_type": "code",
   "execution_count": 15,
   "metadata": {},
   "outputs": [
    {
     "data": {
      "text/plain": [
       "array(['Restaurant', 'Mexican Restaurant', 'French Restaurant',\n",
       "       'Portuguese Restaurant', 'Italian Restaurant', 'Sushi Restaurant',\n",
       "       'Persian Restaurant', 'Chinese Restaurant', 'Thai Restaurant',\n",
       "       'New American Restaurant', 'Japanese Restaurant',\n",
       "       'Fast Food Restaurant', 'Ramen Restaurant',\n",
       "       'Middle Eastern Restaurant', 'Modern European Restaurant',\n",
       "       'Seafood Restaurant', 'Ethiopian Restaurant',\n",
       "       'Vietnamese Restaurant', 'American Restaurant',\n",
       "       'Latin American Restaurant', 'Vegetarian / Vegan Restaurant',\n",
       "       'German Restaurant', 'Comfort Food Restaurant', 'Asian Restaurant',\n",
       "       'Moroccan Restaurant', 'Belgian Restaurant', 'Greek Restaurant',\n",
       "       'Indian Restaurant', 'Falafel Restaurant', 'Korean Restaurant',\n",
       "       'Colombian Restaurant', 'Brazilian Restaurant',\n",
       "       'Mediterranean Restaurant', 'Gluten-free Restaurant',\n",
       "       'Cuban Restaurant', 'Malay Restaurant', 'Caribbean Restaurant',\n",
       "       'Dim Sum Restaurant', 'Cajun / Creole Restaurant',\n",
       "       'Eastern European Restaurant', 'Dumpling Restaurant',\n",
       "       'Doner Restaurant', 'Filipino Restaurant',\n",
       "       'Molecular Gastronomy Restaurant', 'Taiwanese Restaurant',\n",
       "       'Theme Restaurant', 'Afghan Restaurant', 'Museum', 'Art Museum',\n",
       "       'History Museum', 'Music Venue', 'Historic Site', 'Jazz Club',\n",
       "       'Strip Club', 'Opera House', 'Beer Bar', 'Bar', 'Wine Bar',\n",
       "       'Cocktail Bar', 'Salon / Barbershop', 'Juice Bar', 'Sports Bar',\n",
       "       'Hotel Bar', 'Gay Bar', 'Sake Bar'], dtype=object)"
      ]
     },
     "execution_count": 15,
     "metadata": {},
     "output_type": "execute_result"
    }
   ],
   "source": [
    "toronto_culture['Venue Category'].unique()"
   ]
  },
  {
   "cell_type": "code",
   "execution_count": 53,
   "metadata": {},
   "outputs": [
    {
     "data": {
      "text/plain": [
       "(509, 7)"
      ]
     },
     "execution_count": 53,
     "metadata": {},
     "output_type": "execute_result"
    }
   ],
   "source": [
    "toronto_culture.shape"
   ]
  },
  {
   "cell_type": "code",
   "execution_count": 65,
   "metadata": {},
   "outputs": [
    {
     "data": {
      "text/plain": [
       "count            509\n",
       "unique            65\n",
       "top       Restaurant\n",
       "freq              54\n",
       "Name: Venue Category, dtype: object"
      ]
     },
     "execution_count": 65,
     "metadata": {},
     "output_type": "execute_result"
    }
   ],
   "source": [
    "toronto_culture['Venue Category'].describe()"
   ]
  },
  {
   "cell_type": "markdown",
   "metadata": {},
   "source": [
    "Comparing the dataset New york has a much greater number of cultural venues, the biggest outlier being Italian restraunts."
   ]
  },
  {
   "cell_type": "markdown",
   "metadata": {},
   "source": [
    "Now lets compare the cities by neighborhood"
   ]
  },
  {
   "cell_type": "code",
   "execution_count": 52,
   "metadata": {},
   "outputs": [
    {
     "data": {
      "image/png": "[encoded data removed]",
      "text/plain": [
       "<Figure size 1224x576 with 1 Axes>"
      ]
     },
     "metadata": {},
     "output_type": "display_data"
    }
   ],
   "source": [
    "plt.style.use('ggplot')\n",
    "top_five = 5 # Top 5 neighborhoods\n",
    "toronto_culture.groupby('Neighborhood')['Venue'].count().nlargest(top_five).plot.bar(figsize=(17,8), color='g')\n",
    "plt.title('Cultural Venues per Neighborhood: Toronto', fontsize=20)\n",
    "plt.xlabel(\"Neighborhood\", fontsize=20)\n",
    "plt.ylabel(\"# of Venues\", fontsize=20)\n",
    "plt.xticks(rotation = 'horizontal')\n",
    "plt.show()"
   ]
  },
  {
   "cell_type": "code",
   "execution_count": 49,
   "metadata": {},
   "outputs": [
    {
     "data": {
      "image/png": "[encoded data removed]",
      "text/plain": [
       "<Figure size 1224x576 with 1 Axes>"
      ]
     },
     "metadata": {},
     "output_type": "display_data"
    }
   ],
   "source": [
    "ny_culture.groupby('Neighborhood')['Venue'].count().nlargest(top_five).plot.bar(figsize=(17,8), color='g')\n",
    "plt.title('Cultural Venues per Neighborhood: New York', fontsize=20)\n",
    "plt.xlabel(\"Neighborhood\", fontsize=20)\n",
    "plt.ylabel(\"# of Venues\", fontsize=20)\n",
    "plt.xticks(rotation = 'horizontal')\n",
    "plt.show()"
   ]
  },
  {
   "cell_type": "markdown",
   "metadata": {},
   "source": []
  }
 ],
 "metadata": {
  "kernelspec": {
   "display_name": "Python 3",
   "language": "python",
   "name": "python3"
  },
  "language_info": {
   "codemirror_mode": {
    "name": "ipython",
    "version": 3
   },
   "file_extension": ".py",
   "mimetype": "text/x-python",
   "name": "python",
   "nbconvert_exporter": "python",
   "pygments_lexer": "ipython3",
   "version": "3.7.6"
  }
 },
 "nbformat": 4,
 "nbformat_minor": 4
}
