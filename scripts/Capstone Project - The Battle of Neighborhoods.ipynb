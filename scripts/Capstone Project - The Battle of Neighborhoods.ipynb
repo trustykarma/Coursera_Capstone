{
 "cells": [
  {
   "cell_type": "markdown",
   "metadata": {},
   "source": [
    "# Capstone Project\n",
    "\n",
    "## The Battle of Neighborhoods\n",
    "\n",
    "### Cultural Similarities\n",
    " *Christopher Neal*\n",
    " \n",
    " ***"
   ]
  },
  {
   "cell_type": "markdown",
   "metadata": {},
   "source": [
    "# Introduction\n",
    "\n",
    "The final project will be exploring the cultural similarities of New York and Toronto. Both major cities are labeled as one of the most multicultural cities in the world, but what makes them so diverse from other cities might make them similair to each other. I will be looking at the different types of cultural venues to answer this quesiton. Finding out which business are popular among these two diverse cities and possibly what is more popular in one or the other. If your looking to move to a cultural city with specific interests or trying to open a art gallery to express yourself, which city has what your looking for."
   ]
  },
  {
   "cell_type": "markdown",
   "metadata": {},
   "source": [
    "# Data\n",
    "I will be looking at data on New York and Toronto Neighborhoods, boroughs, latitude, logitude, and cultulral venues such as:\n",
    "resturants, art, music venue, museum, concert hall, opera house, religious buildings.\n",
    "\n",
    "New York City data containing the neighborhoods and boroughs, latitudes, and longitudes will be obtained from the data source: https://cocl.us/new_york_dataset\n",
    "\n",
    "Toronto data will be scrapped from canadas postal code wiki:  https://en.wikipedia.org/wiki/List_of_postal_codes_of_Canada:_M\n",
    "\n",
    "Venue data from both cities are created by using the foursquare developer API"
   ]
  },
  {
   "cell_type": "code",
   "execution_count": null,
   "metadata": {},
   "outputs": [],
   "source": []
  }
 ],
 "metadata": {
  "kernelspec": {
   "display_name": "Python 3",
   "language": "python",
   "name": "python3"
  },
  "language_info": {
   "codemirror_mode": {
    "name": "ipython",
    "version": 3
   },
   "file_extension": ".py",
   "mimetype": "text/x-python",
   "name": "python",
   "nbconvert_exporter": "python",
   "pygments_lexer": "ipython3",
   "version": "3.7.6"
  }
 },
 "nbformat": 4,
 "nbformat_minor": 4
}
